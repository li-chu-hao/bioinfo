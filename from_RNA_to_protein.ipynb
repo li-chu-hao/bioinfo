{
  "nbformat": 4,
  "nbformat_minor": 0,
  "metadata": {
    "colab": {
      "provenance": [],
      "authorship_tag": "ABX9TyMmZA5ssQGG0nH5L3/AR9db",
      "include_colab_link": true
    },
    "kernelspec": {
      "name": "python3",
      "display_name": "Python 3"
    },
    "language_info": {
      "name": "python"
    }
  },
  "cells": [
    {
      "cell_type": "markdown",
      "metadata": {
        "id": "view-in-github",
        "colab_type": "text"
      },
      "source": [
        "<a href=\"https://colab.research.google.com/github/li-chu-hao/bioinfo/blob/main/from_RNA_to_protein.ipynb\" target=\"_parent\"><img src=\"https://colab.research.google.com/assets/colab-badge.svg\" alt=\"Open In Colab\"/></a>"
      ]
    },
    {
      "cell_type": "markdown",
      "source": [
        "# Bioinformatics experiment: From RNA to protein\n",
        "\n",
        "## Introduction\n",
        "\n",
        "问题：如何把片段化的碱基序列还原为蛋白质？\n",
        "\n",
        "**实验目的：**\n",
        "\n",
        "- 通过完成核苷酸序列的拼接、翻译、折叠，对生物信息学有进一步的认识。\n",
        "- 认识当前最主要的生物数据：序列数据\n",
        "- 了解如何使用计算机处理序列数据。\n",
        "- 了解人工智能在生物信息中的应用。\n",
        "\n",
        "**实验步骤：**\n",
        "\n",
        "0. 运行你的第一个python程序。\n",
        "1. 对RNA进行模拟测序，生成核苷酸序列片段。\n",
        "2. 序列拼接\n",
        "3. 翻译为氨基酸\n",
        "4. 氨基酸折叠\n",
        "\n",
        "\n",
        "## Step 0：运行你的第一个python程序："
      ],
      "metadata": {
        "id": "EdRh-bU6FQlI"
      }
    },
    {
      "cell_type": "code",
      "execution_count": null,
      "metadata": {
        "id": "ooSS73f1FCEb"
      },
      "outputs": [],
      "source": [
        "print(\"\\n--------------\")\n",
        "print(\"Hello world!\")\n",
        "print(\"Your python environment has been successfully set up! \")\n",
        "print(\"--------------\")"
      ]
    },
    {
      "cell_type": "markdown",
      "source": [
        "## Step 1: 对RNA进行模拟测序，生成核苷酸序列片段（reads）。\n",
        "\n",
        "根据血红蛋白亚基β的mRNA序列，生成长为50个碱基的reads，测序深度为100X。reads的长度和测序深度对序列拼接非常关键，reads太短或者测序深度不足都会导致序列拼接失败。\n",
        "\n",
        "1.1 下载血红蛋白亚基β的mRNA序列，保存到`rna.fna`文件。"
      ],
      "metadata": {
        "id": "qooowikTFOHh"
      }
    },
    {
      "cell_type": "code",
      "source": [
        "!wget -O \"rna.fna\" \"https://www.ncbi.nlm.nih.gov/sviewer/viewer.cgi?tool=portal&save=file&log$=seqview&db=nuccore&report=fasta_cds_na&id=1401724401&extrafeat=null&conwithfeat=on&hide-cdd=on&ncbi_phid=CE89C6D35DF019A1000000000AD308E1\""
      ],
      "metadata": {
        "id": "bQIN-dyqGlGt"
      },
      "execution_count": null,
      "outputs": []
    },
    {
      "cell_type": "markdown",
      "source": [
        "1.2 查看`rna.fna`文件内容"
      ],
      "metadata": {
        "id": "whD-4pL8IVSW"
      }
    },
    {
      "cell_type": "code",
      "source": [
        "!cat rna.fna"
      ],
      "metadata": {
        "id": "bGRMO7g8ImLO"
      },
      "execution_count": null,
      "outputs": []
    },
    {
      "cell_type": "markdown",
      "source": [
        "1.3 对RNA进行模拟测序，生成核苷酸序列片段。"
      ],
      "metadata": {
        "id": "9qQcMQyMKRvl"
      }
    },
    {
      "cell_type": "markdown",
      "source": [
        "安装依赖库："
      ],
      "metadata": {
        "id": "T5NkjUYXMQ1F"
      }
    },
    {
      "cell_type": "code",
      "source": [
        "!python3 -m pip install biopython"
      ],
      "metadata": {
        "id": "qvrXHLlgKyN-"
      },
      "execution_count": null,
      "outputs": []
    },
    {
      "cell_type": "markdown",
      "source": [
        "生成reads："
      ],
      "metadata": {
        "id": "FlDGc65JMey1"
      }
    },
    {
      "cell_type": "code",
      "source": [
        "# @title 生成reads代码\n",
        "# 1. 读取序列。\n",
        "# 2. 根据reads长度、覆盖度生成随机数。\n",
        "# 3. 把生成的随机n数作为序列的起点，n+read length作为终点，contigs.\n",
        "import random\n",
        "from Bio import SeqIO\n",
        "\n",
        "seq = SeqIO.read(\"rna.fna\", \"fasta\")\n",
        "\n",
        "contig_len = 50 # @param {type:\"integer\"}\n",
        "#@markdown - 指定生成的read长度。\n",
        "\n",
        "coverage = 100 # @param {type:\"integer\"}\n",
        "#@markdown - 指定测序深度。\n",
        "\n",
        "print(\"\\n序列长度：\", len(seq.seq))\n",
        "contig_num = int(len(seq.seq)*coverage / contig_len)\n",
        "\n",
        "print(\"生成read的长度：\", contig_len)\n",
        "print(\"生成read的覆盖度（平均每个碱基被测序到的次数）：\", coverage)\n",
        "print(\"预计生成的reads条数：\", contig_num)\n",
        "\n",
        "start = 0\n",
        "end = len(seq.seq) - contig_len\n",
        "\n",
        "with open(\"01_output_reads.txt\", \"w\") as f:\n",
        "    start_points = [random.randint(start, end) for i in range(contig_num)]\n",
        "    for n in start_points:\n",
        "        print(str(seq.seq[n:n+contig_len]), file=f)\n",
        "\n",
        "print(\"\\n运行完毕！请检查结果文件'01_output_reads.txt'。\")\n"
      ],
      "metadata": {
        "id": "Uzl7FiKxKYxt"
      },
      "execution_count": null,
      "outputs": []
    },
    {
      "cell_type": "markdown",
      "source": [
        "查看生成的reads文件的前10行："
      ],
      "metadata": {
        "id": "fvzn3EE3MjJt"
      }
    },
    {
      "cell_type": "code",
      "source": [
        "!head 01_output_reads.txt"
      ],
      "metadata": {
        "id": "5hUu2FkSLk22"
      },
      "execution_count": null,
      "outputs": []
    },
    {
      "cell_type": "markdown",
      "source": [
        "## Step 2: 序列拼接"
      ],
      "metadata": {
        "id": "SGkntTXuMqbt"
      }
    },
    {
      "cell_type": "markdown",
      "source": [
        "拼图游戏（简单版20块）：<div style=\"display:inline-block;text-align:left;width:140px;\"><a style=\"color:#444\" href=\"https://www.jigidi.com/solve/gk0vdroq/teacup-with-jonquils/\"><img style=\"display:block;border:none;margin:5px 0 0 0;\" src=\"//thumbs.jigidi.com/embed.php?t=s_GK0VDROQ_20\" alt=\"Jigsaw puzzle - Teacup With Jonquils\"></a></div>\n",
        "\n",
        "拼图游戏（纯黑25块）：<div style=\"display:inline-block;text-align:left;width:140px;\"><a style=\"color:#444\" href=\"https://www.jigidi.com/solve/q493fr9l/solid-black/\"><img style=\"display:block;border:none;margin:5px 0 0 0;\" src=\"//thumbs.jigidi.com/embed.php?t=s_Q493FR9L_25\" alt=\"Jigsaw puzzle - solid_black\"></a></div>"
      ],
      "metadata": {
        "id": "u7tObp4j746a"
      }
    },
    {
      "cell_type": "markdown",
      "source": [
        "拼图程序：\n",
        "1. **取出拼图**：摆放好全部拼图，执行步骤2。\n",
        "2. **比较两块拼图**：取拼图i，与另一块尚未与i比较过的拼图比较。\n",
        "3. **根据两块拼图的比较结果决定下一步**：如果匹配成功，则合并在一起，然后执行步骤4；如果匹配失败，则回到步骤2。\n",
        "4. **根据是否全部拼完决定下一步**：如果已经全部拼好，则执行步骤5，如果没有，则回到步骤2。\n",
        "5. **展示拼好的拼图**。\n",
        "\n",
        "序列拼接程序：\n",
        "\n",
        "序列拼接与拼图是类似的。下面的代码包含了以上五个步骤，但是其顺序被打乱了。请根据每段代码的描述，联系拼图程序中的相应步骤，对代码进行排序，然后运行。"
      ],
      "metadata": {
        "id": "WVnTvnB-L8hX"
      }
    },
    {
      "cell_type": "code",
      "source": [
        "# 以下为定义函数。不需要修改这部分。\n",
        "#----------------------------------------------------------\n",
        "min_overlap = 25 # @param {type:\"integer\"}\n",
        "#@markdown - 指定最少有多少个碱基重叠才能合并两条序列。\n",
        "from Bio.SeqRecord import SeqRecord\n",
        "from Bio.Seq import Seq\n",
        "from Bio import SeqIO\n",
        "# “merge_contig”函数的作用是检测两条序列是否有至少“min_overlap”\n",
        "# 个碱基的重叠，如果是，那就合并到一起。\n",
        "def merge_contig(a, b, min_overlap=25):\n",
        "  min_L = min(len(a), len(b))\n",
        "  # 处理相互包含的\n",
        "  if a in b:\n",
        "    return b\n",
        "  if b in a:\n",
        "    return a\n",
        "  # 处理头尾相接的\n",
        "  # a head overlap with b tail\n",
        "  for i in range(min_overlap, min_L+1):\n",
        "    if a[:i] == b[-i:]:\n",
        "      c = b + a[i:]\n",
        "      return c\n",
        "  # a tail overlap with b head\n",
        "  for i in range(min_overlap, min_L+1):\n",
        "    if b[:i] == a[-i:]:\n",
        "      c = a + b[i:]\n",
        "      return c\n",
        "  return None\n",
        "#----------------------------------------------------------\n",
        "\n",
        "##############################################\n",
        "# 请阅读代码的描述，修改下面五个片段的顺序。#\n",
        "##############################################\n",
        "\n",
        "# E. 读取之前生成的reads。\n",
        "#----------------------------------------------------------\n",
        "reads = open(\"01_output_reads.txt\").read().splitlines()\n",
        "#----------------------------------------------------------\n",
        "\n",
        "# D. 把拼接好的序列保存为文件。\n",
        "#----------------------------------------------------------\n",
        "with open(\"02_OLC_assembly.txt\", \"w\") as f:\n",
        "    record = SeqRecord(\n",
        "        Seq(b[0]),\n",
        "        id=\"HBB_assembly\",\n",
        "        description=\"HBB assembly by OLC\",\n",
        ")\n",
        "    SeqIO.write(record, f, \"fasta\")\n",
        "print(\"\\n运行完毕！请检查'02_OLC_assembly.txt'文件。\")\n",
        "#----------------------------------------------------------\n",
        "\n",
        "# B. 如果b列表只剩下一条reads，则说明已经拼接完整，跳出循环。\n",
        "#   如果还有多条reads，则把a、b列表互换，重复前面一步\n",
        "#----------------------------------------------------------\n",
        "  if len(b) == 1:\n",
        "    break\n",
        "  else:\n",
        "    a, b = b, a\n",
        "#----------------------------------------------------------\n",
        "\n",
        "# A. 每次从a取一条reads，尝试和b中的reads拼接，如果能拼上，\n",
        "#   则合并为一条reads，如果拼不上，则加入b中，直到a为空。\n",
        "#----------------------------------------------------------\n",
        "while True:\n",
        "  while len(a) != 0:\n",
        "    a_read = a.pop()\n",
        "    for i in range(len(b)):\n",
        "      b_read = b[i]\n",
        "      c = merge_contig(a_read, b_read, min_overlap=min_overlap)\n",
        "      if c:\n",
        "        b[i] = c\n",
        "        break\n",
        "    else:\n",
        "      b.append(a_read)\n",
        "#----------------------------------------------------------\n",
        "\n",
        "# C. 定义a、b两个空列表。把reads放入a中。\n",
        "#----------------------------------------------------------\n",
        "a = reads\n",
        "b = []\n",
        "#----------------------------------------------------------"
      ],
      "metadata": {
        "id": "YQvXz_ARNOd3"
      },
      "execution_count": null,
      "outputs": []
    },
    {
      "cell_type": "code",
      "source": [
        "# 运行这里查看参考答案\n",
        "answer = [69, 67, 65, 66, 68]\n",
        "print([chr(i) for i in answer])"
      ],
      "metadata": {
        "id": "SAxs-uWjMkX-"
      },
      "execution_count": null,
      "outputs": []
    },
    {
      "cell_type": "markdown",
      "source": [
        "检查拼接是否正确："
      ],
      "metadata": {
        "id": "5QsZa2nWNL6u"
      }
    },
    {
      "cell_type": "code",
      "source": [
        "print(\"拼接结果：\\n\")\n",
        "!cat 02_OLC_assembly.txt\n",
        "\n",
        "print()\n",
        "ref = SeqIO.read(\"rna.fna\", \"fasta\")\n",
        "assembly = SeqIO.read(\"02_OLC_assembly.txt\", \"fasta\")\n",
        "if ref.seq == assembly.seq:\n",
        "  print(\"恭喜！拼接正确！\")\n",
        "else:\n",
        "  print(\"拼接结果与参考序列不一致！\")"
      ],
      "metadata": {
        "id": "0RnBsMqoNO8t"
      },
      "execution_count": null,
      "outputs": []
    },
    {
      "cell_type": "markdown",
      "source": [
        "探索：\n",
        "\n",
        "- 不同的reads长度、测序深度对拼接结果有什么影响？\n",
        "- 如果min_overlap参数设置为1，拼接出来的序列是怎样的？"
      ],
      "metadata": {
        "id": "S_NHfCNu0sYt"
      }
    },
    {
      "cell_type": "markdown",
      "source": [
        "## Step 3: 翻译为氨基酸"
      ],
      "metadata": {
        "id": "upomBygcRJh-"
      }
    },
    {
      "cell_type": "markdown",
      "source": [
        "![密码子表](https://cdn1.byjus.com/wp-content/uploads/2017/11/Genetic-code-table-1.png)"
      ],
      "metadata": {
        "id": "LqVz8BGH4qSI"
      }
    },
    {
      "cell_type": "code",
      "source": [
        "from Bio import SeqIO\n",
        "seq = SeqIO.read(\"02_OLC_assembly.txt\", \"fasta\")\n",
        "seq.seq = seq.seq.translate()\n",
        "seq.id = \"HBB_amino_sequence\"\n",
        "seq.description = \"HBB amino sequence\"\n",
        "with open(\"translated.txt\", \"w\") as f:\n",
        "    SeqIO.write(seq, f, \"fasta\")\n",
        "\n",
        "print(\"RNA序列翻译为氨基酸序列，运行完毕！\")"
      ],
      "metadata": {
        "id": "PDX3-Bq9RPt1"
      },
      "execution_count": null,
      "outputs": []
    },
    {
      "cell_type": "code",
      "source": [
        "!cat translated.txt"
      ],
      "metadata": {
        "id": "vIFJLgHMSJOU"
      },
      "execution_count": null,
      "outputs": []
    },
    {
      "cell_type": "markdown",
      "source": [
        "## Step 4: 氨基酸折叠\n",
        "\n",
        "4.1 运行alphafold\n",
        "\n",
        "打开上一步生成的`translated.txt`文件，把其中的氨基酸序列复制到<a href=\"https://colab.research.google.com/github/sokrypton/ColabFold/blob/main/AlphaFold2.ipynb\" target=\"_blank\">colabfold网站</a>中的`query_sequence`处（不需要复制最末端的`*`号，该符号代表终止密码子），然后点击上方菜单栏中的“代码执行程序，然后点击“全部运行”。模拟折叠该氨基酸序列大概需要5-7分钟。\n",
        "\n",
        "4.2 查看pdb文件\n",
        "\n",
        "先下载示例结果文件：[AF-P68871-F1-model_v4.pdb](https://alphafold.ebi.ac.uk/files/AF-P68871-F1-model_v4.pdb)，然后打开[www.rcsb.org/3d-view](https://www.rcsb.org/3d-view)，把下载好的pdb文件上传到rcsb网站，查看其蛋白结构。\n",
        "\n",
        "4.3 查看alphafold结果\n",
        "\n",
        "运行完毕后，会自动下载一个压缩包，打开该压缩包，可以看到5个以\".pdb\"结尾的文件，分别对应5种折叠方案。把第一个pdb文件提交到[www.rcsb.org/3d-view](https://www.rcsb.org/3d-view)，查看蛋白质的三维结构。\n",
        "\n"
      ],
      "metadata": {
        "id": "tWDtNRgFTh1l"
      }
    },
    {
      "cell_type": "markdown",
      "source": [
        "4.3 比较蛋白结构\n",
        "\n",
        "进入[www.rcsb.org/alignment](https://www.rcsb.org/alignment)，把参考的pdb文件和刚刚用alphafold生成的pdb文件进行比较。"
      ],
      "metadata": {
        "id": "GbAlA9jSfgRc"
      }
    }
  ]
}