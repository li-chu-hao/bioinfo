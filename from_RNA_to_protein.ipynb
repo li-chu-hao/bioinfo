{
  "nbformat": 4,
  "nbformat_minor": 0,
  "metadata": {
    "colab": {
      "provenance": [],
      "toc_visible": true,
      "authorship_tag": "ABX9TyMU8miWnsN8uTxvw6SDfcnG",
      "include_colab_link": true
    },
    "kernelspec": {
      "name": "python3",
      "display_name": "Python 3"
    },
    "language_info": {
      "name": "python"
    }
  },
  "cells": [
    {
      "cell_type": "markdown",
      "metadata": {
        "id": "view-in-github",
        "colab_type": "text"
      },
      "source": [
        "<a href=\"https://colab.research.google.com/github/li-chu-hao/bioinfo/blob/main/from_RNA_to_protein.ipynb\" target=\"_parent\"><img src=\"https://colab.research.google.com/assets/colab-badge.svg\" alt=\"Open In Colab\"/></a>"
      ]
    },
    {
      "cell_type": "markdown",
      "source": [
        "# Bioinformatics experiment: From RNA to protein\n",
        "\n",
        "## Introduction\n",
        "\n",
        "**实验目的：**\n",
        "\n",
        "通过完成核苷酸序列的拼接、翻译、折叠，对生物信息学有进一步的认识。\n",
        "\n",
        "**实验步骤：**\n",
        "\n",
        "0. 运行你的第一个python程序。\n",
        "1. 对RNA进行模拟测序，生成核苷酸序列片段。\n",
        "2. 序列拼接\n",
        "3. 翻译为氨基酸\n",
        "4. 氨基酸折叠\n",
        "\n",
        "\n",
        "## Step 0：运行你的第一个python程序："
      ],
      "metadata": {
        "id": "EdRh-bU6FQlI"
      }
    },
    {
      "cell_type": "code",
      "execution_count": null,
      "metadata": {
        "id": "ooSS73f1FCEb"
      },
      "outputs": [],
      "source": [
        "print(\"\\n--------------\")\n",
        "print(\"Hello world!\")\n",
        "print(\"Your python environment has been successfully set up! \")\n",
        "print(\"--------------\")"
      ]
    },
    {
      "cell_type": "markdown",
      "source": [
        "## Step 1: 对RNA进行模拟测序，生成核苷酸序列片段。\n",
        "\n",
        "1.1 下载血红蛋白亚基β的mRNA序列，保存到`rna.fna`文件。"
      ],
      "metadata": {
        "id": "qooowikTFOHh"
      }
    },
    {
      "cell_type": "code",
      "source": [
        "!wget -O \"rna.fna\" \"https://www.ncbi.nlm.nih.gov/sviewer/viewer.cgi?tool=portal&save=file&log$=seqview&db=nuccore&report=fasta_cds_na&id=1401724401&extrafeat=null&conwithfeat=on&hide-cdd=on&ncbi_phid=CE89C6D35DF019A1000000000AD308E1\""
      ],
      "metadata": {
        "id": "bQIN-dyqGlGt"
      },
      "execution_count": null,
      "outputs": []
    },
    {
      "cell_type": "markdown",
      "source": [
        "1.2 查看`rna.fna`文件内容"
      ],
      "metadata": {
        "id": "whD-4pL8IVSW"
      }
    },
    {
      "cell_type": "code",
      "source": [
        "!cat rna.fna"
      ],
      "metadata": {
        "id": "bGRMO7g8ImLO"
      },
      "execution_count": null,
      "outputs": []
    },
    {
      "cell_type": "markdown",
      "source": [
        "1.3 对RNA进行模拟测序，生成核苷酸序列片段。"
      ],
      "metadata": {
        "id": "9qQcMQyMKRvl"
      }
    },
    {
      "cell_type": "markdown",
      "source": [
        "安装依赖库："
      ],
      "metadata": {
        "id": "T5NkjUYXMQ1F"
      }
    },
    {
      "cell_type": "code",
      "source": [
        "!python3 -m pip install biopython"
      ],
      "metadata": {
        "id": "qvrXHLlgKyN-"
      },
      "execution_count": null,
      "outputs": []
    },
    {
      "cell_type": "markdown",
      "source": [
        "生成reads："
      ],
      "metadata": {
        "id": "FlDGc65JMey1"
      }
    },
    {
      "cell_type": "code",
      "source": [
        "# @title 生成reads代码\n",
        "# 1. 读取序列。\n",
        "# 2. 根据reads长度、覆盖度生成随机数。\n",
        "# 3. 把生成的随机n数作为序列的起点，n+read length作为终点，contigs.\n",
        "import random\n",
        "from Bio import SeqIO\n",
        "\n",
        "seq = SeqIO.read(\"rna.fna\", \"fasta\")\n",
        "\n",
        "contig_len = 50\n",
        "coverage = 50\n",
        "\n",
        "print(\"\\n序列长度：\", len(seq.seq))\n",
        "contig_num = int(len(seq.seq)*coverage / contig_len)\n",
        "\n",
        "print(\"生成read的长度：\", contig_len)\n",
        "print(\"生成read的覆盖度（平均每个碱基被测序到的次数）：\", coverage)\n",
        "print(\"预计生成的reads条数：\", contig_num)\n",
        "\n",
        "start = 0\n",
        "end = len(seq.seq) - contig_len\n",
        "\n",
        "with open(\"01_output_reads.txt\", \"w\") as f:\n",
        "    start_points = [random.randint(start, end) for i in range(contig_num)]\n",
        "    for n in start_points:\n",
        "        print(str(seq.seq[n:n+contig_len]), file=f)\n",
        "\n",
        "print(\"\\n运行完毕！请检查结果文件'01_output_reads.txt'。\")\n"
      ],
      "metadata": {
        "id": "Uzl7FiKxKYxt"
      },
      "execution_count": null,
      "outputs": []
    },
    {
      "cell_type": "markdown",
      "source": [
        "查看生成的reads文件的前10行："
      ],
      "metadata": {
        "id": "fvzn3EE3MjJt"
      }
    },
    {
      "cell_type": "code",
      "source": [
        "!head 01_output_reads.txt"
      ],
      "metadata": {
        "id": "5hUu2FkSLk22"
      },
      "execution_count": null,
      "outputs": []
    },
    {
      "cell_type": "markdown",
      "source": [
        "## Step 2: 序列拼接"
      ],
      "metadata": {
        "id": "SGkntTXuMqbt"
      }
    },
    {
      "cell_type": "code",
      "source": [
        "# @title 序列拼接代码\n",
        "# 这里是正确的代码块顺序：A-C-E-D-B\n",
        "\n",
        "\n",
        "#####################Code block A: 读取传入参数。########################\n",
        "# 代码注释：min_overlap 参数默认为25，如果用户在命令行末端添加了\n",
        "# 一个数字，min_overlap将被设置为该数值。\n",
        "import sys\n",
        "from Bio import SeqIO\n",
        "from Bio.Seq import Seq\n",
        "from Bio.SeqRecord import SeqRecord\n",
        "min_overlap = 25\n",
        "if len(sys.argv) == 2:\n",
        "    min_overlap = int(sys.argv[1])\n",
        "print(\"min_overlap被设置为：\", min_overlap)\n",
        "#####################Code block A: 读取传入参数。########################\n",
        "\n",
        "\n",
        "\n",
        "#####################Code block C: 定义函数。########################\n",
        "# 代码注释：重复运行的代码，为了避免写很多次，我们会定义为“函数”。\n",
        "# 以下“merge_contig”函数的作用是检测两条序列是否有至少“min_overlap”\n",
        "# 个碱基的重叠，如果是，那就合并到一起。\n",
        "def merge_contig(a, b, min_overlap=25):\n",
        "    min_L = min(len(a), len(b))\n",
        "    # 处理相互包含的\n",
        "    if a in b:\n",
        "        return b\n",
        "    if b in a:\n",
        "        return a\n",
        "    # 处理头尾相接的\n",
        "    # a head overlap with b tail\n",
        "    for i in range(min_overlap, min_L+1):\n",
        "        if a[:i] == b[-i:]:\n",
        "            c = b + a[i:]\n",
        "            return c\n",
        "    # a tail overlap with b head\n",
        "    for i in range(min_overlap, min_L+1):\n",
        "        if b[:i] == a[-i:]:\n",
        "            c = a + b[i:]\n",
        "            return c\n",
        "    return None\n",
        "#####################Code block C: 定义函数。########################\n",
        "\n",
        "\n",
        "\n",
        "#####################Code block E: 读取reads。########################\n",
        "# 代码注释：读取所有生成的reads。\n",
        "reads = open(\"01_output_reads.txt\").read().splitlines()\n",
        "#####################Code block E: 读取reads。########################\n",
        "\n",
        "\n",
        "\n",
        "#####################Code block D: 执行拼接。########################\n",
        "# 代码注释：对reads进行两两比较，如果有重叠，就合并在一起，直到只剩下\n",
        "# 一条read，或者reads的数目不再变化。\n",
        "n_reads = len(reads)\n",
        "while len(reads) > 1:\n",
        "    for i in range(len(reads)):\n",
        "        for j in range(i+1, len(reads)):\n",
        "            a = reads[i]\n",
        "            b = reads[j]\n",
        "            if a and b:\n",
        "                c = merge_contig(a, b, min_overlap=min_overlap)\n",
        "                if c:\n",
        "                    reads[i] = c\n",
        "                    reads[j] = None\n",
        "    reads = [i for i in reads if i]\n",
        "    n_reads_tmp = len(reads)\n",
        "    reduced_reads = n_reads - n_reads_tmp\n",
        "    if reduced_reads == 0:\n",
        "        print(\"reads数没有发生改变，这意味着无法拼成单条完整的序列。退出程序。\")\n",
        "        exit()\n",
        "    n_reads = n_reads_tmp\n",
        "#####################Code block D: 执行拼接。########################\n",
        "\n",
        "\n",
        "\n",
        "#####################Code block B: 输出结果。########################\n",
        "# 代码注释：把得到的结果输出到文件。\n",
        "with open(\"02_OLC_assembly.txt\", \"w\") as f:\n",
        "    record = SeqRecord(\n",
        "        Seq(reads[0]),\n",
        "        id=\"HBB_assembly\",\n",
        "        description=\"HBB assembly by OLC\",\n",
        ")\n",
        "    SeqIO.write(record, f, \"fasta\")\n",
        "\n",
        "print(\"\\n运行完毕！请检查'02_OLC_assembly.txt'文件。\")\n",
        "#####################Code block B: 输出结果。########################\n",
        "\n"
      ],
      "metadata": {
        "id": "CMJtPTn4NFc3"
      },
      "execution_count": null,
      "outputs": []
    },
    {
      "cell_type": "markdown",
      "source": [
        "查看结果文件："
      ],
      "metadata": {
        "id": "5QsZa2nWNL6u"
      }
    },
    {
      "cell_type": "code",
      "source": [
        "!cat 02_OLC_assembly.txt"
      ],
      "metadata": {
        "id": "0RnBsMqoNO8t"
      },
      "execution_count": null,
      "outputs": []
    },
    {
      "cell_type": "markdown",
      "source": [
        "## Step 3: 翻译为氨基酸"
      ],
      "metadata": {
        "id": "upomBygcRJh-"
      }
    },
    {
      "cell_type": "code",
      "source": [
        "from Bio import SeqIO\n",
        "seq = SeqIO.read(\"02_OLC_assembly.txt\", \"fasta\")\n",
        "seq.seq = seq.seq.translate()\n",
        "seq.id = \"HBB_amino_sequence\"\n",
        "seq.description = \"HBB amino sequence\"\n",
        "with open(\"translated.txt\", \"w\") as f:\n",
        "    SeqIO.write(seq, f, \"fasta\")\n",
        "\n",
        "print(\"RNA序列翻译为氨基酸序列，运行完毕！\")"
      ],
      "metadata": {
        "id": "PDX3-Bq9RPt1"
      },
      "execution_count": null,
      "outputs": []
    },
    {
      "cell_type": "code",
      "source": [
        "!cat translated.txt"
      ],
      "metadata": {
        "id": "vIFJLgHMSJOU"
      },
      "execution_count": null,
      "outputs": []
    },
    {
      "cell_type": "markdown",
      "source": [
        "## Step 4: 氨基酸折叠\n",
        "\n",
        "打开上一步生成的`translated.txt`文件，把其中的氨基酸序列复制到<a href=\"https://colab.research.google.com/github/sokrypton/ColabFold/blob/main/AlphaFold2.ipynb\" target=\"_blank\">colabfold网站</a>中的`query_sequence`处，然后点击上方菜单栏中的“代码执行程序，然后点击“全部运行”。模拟折叠该氨基酸序列大概需要5-7分钟。\n",
        "\n",
        "理解蛋白折叠和alphafold。\n",
        "\n",
        "运行完毕后，会自动下载一个压缩包，打开该压缩包，可以看到5个以\".pdb\"结尾的文件，分别对应5种折叠方案。把该文件提交到<a href=\"https://www.rcsb.org/3d-view\" target=\"_blank\">蛋白三维结构查看网站</a>，可以查看该氨基酸的三维结构。\n",
        "\n",
        "探索：修改部分氨基酸序列，看看折叠的结果有什么不一样。"
      ],
      "metadata": {
        "id": "tWDtNRgFTh1l"
      }
    }
  ]
}